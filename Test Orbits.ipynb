{
 "cells": [
  {
   "cell_type": "code",
   "execution_count": 5,
   "metadata": {},
   "outputs": [],
   "source": [
    "import orbit_classes as orb\n",
    "import numpy as np\n",
    "import glob\n",
    "from astropy.io import ascii as a\n",
    "from astropy.time import Time\n",
    "import matplotlib.pyplot as plt\n",
    "#import h5py\n",
    "import hci_util as util\n",
    "import astropy.constants as const\n",
    "\n",
    "from importlib import reload"
   ]
  },
  {
   "cell_type": "code",
   "execution_count": 6,
   "metadata": {},
   "outputs": [
    {
     "data": {
      "text/plain": [
       "<module 'orbit_classes' from '/Users/annaboehle/research/code/orbits/orbit_classes.py'>"
      ]
     },
     "execution_count": 6,
     "metadata": {},
     "output_type": "execute_result"
    }
   ],
   "source": [
    "reload(orb)"
   ]
  },
  {
   "cell_type": "code",
   "execution_count": 7,
   "metadata": {},
   "outputs": [],
   "source": [
    "star = orb.Star('40_eri',4.98,(2.8,5.6,8.4),{'Lp':2.370},0.67,teff=2000,radius=1.0)  # random teff and r"
   ]
  },
  {
   "cell_type": "markdown",
   "metadata": {},
   "source": [
    "Set up simulation"
   ]
  },
  {
   "cell_type": "code",
   "execution_count": 4,
   "metadata": {},
   "outputs": [],
   "source": [
    "del_a = 2.\n",
    "a_arr = np.arange(del_a/2., 2.0*star.dist*4.0,del_a) \n",
    "\n",
    "del_m_p = 3.\n",
    "m_p_arr = np.arange(del_m_p/2., 50, del_m_p) "
   ]
  },
  {
   "cell_type": "markdown",
   "metadata": {},
   "source": [
    "### RV data set"
   ]
  },
  {
   "cell_type": "code",
   "execution_count": 31,
   "metadata": {},
   "outputs": [],
   "source": [
    "def get_rv_timeseries(star):\n",
    "    rvDir = '/Users/annaboehle/research/analysis/archival_stars/rv_calibrated'\n",
    "\n",
    "    file_ls = glob.glob('{:s}/{:s}/{:s}*cal.dat'.format(rvDir, star, star))\n",
    "    rv_epochs = []\n",
    "    rv_meas = []\n",
    "    for f in file_ls:\n",
    "        rv_tab = a.read(f,names=('rjd','vrad'))\n",
    "        # rv_epochs.append(ascii.read(f))\n",
    "        rv_epochs.extend(rv_tab['rjd'][:])\n",
    "        rv_meas.extend(rv_tab['vrad'][:])\n",
    "\n",
    "    return np.array(rv_epochs, dtype=float) + 2400000, np.array(rv_meas)"
   ]
  },
  {
   "cell_type": "code",
   "execution_count": 50,
   "metadata": {},
   "outputs": [],
   "source": [
    "t, rv_meas=get_rv_timeseries('40_eri')\n",
    "rv_dataset = o.RVDataSet(t, rv_meas,star)"
   ]
  },
  {
   "cell_type": "code",
   "execution_count": 53,
   "metadata": {},
   "outputs": [],
   "source": [
    "sim = o.CompletenessMC(m_p_arr,a_arr,1000,[rv_dataset])"
   ]
  },
  {
   "cell_type": "code",
   "execution_count": 54,
   "metadata": {},
   "outputs": [],
   "source": [
    "out=sim.run()"
   ]
  },
  {
   "cell_type": "code",
   "execution_count": 57,
   "metadata": {},
   "outputs": [
    {
     "data": {
      "text/plain": [
       "<matplotlib.image.AxesImage at 0x11f59a390>"
      ]
     },
     "execution_count": 57,
     "metadata": {},
     "output_type": "execute_result"
    },
    {
     "data": {
      "image/png": "[encoded data removed]",
      "text/plain": [
       "<Figure size 432x288 with 1 Axes>"
      ]
     },
     "metadata": {
      "needs_background": "light"
     },
     "output_type": "display_data"
    }
   ],
   "source": [
    "plt.imshow(out[0]*100.,origin='lower',cmap='Blues', \n",
    "           extent=[0,sim.a_arr[-1]+del_a*0.5,0,sim.mp_arr[-1]+del_m_p*0.5],aspect='auto',vmin=0,vmax=100)  "
   ]
  },
  {
   "cell_type": "markdown",
   "metadata": {},
   "source": [
    "### HCI data set"
   ]
  },
  {
   "cell_type": "code",
   "execution_count": 5,
   "metadata": {},
   "outputs": [],
   "source": [
    "star_name = '40_eri'"
   ]
  },
  {
   "cell_type": "code",
   "execution_count": 6,
   "metadata": {},
   "outputs": [
    {
     "name": "stdout",
     "output_type": "stream",
     "text": [
      "2008.8743169398906\n"
     ]
    },
    {
     "name": "stderr",
     "output_type": "stream",
     "text": [
      "WARNING: WrongDBMModuleWarning: Existing astropy cache is in an unsupported format, either install the appropriate package or use astropy.utils.data.clear_download_cache() to delete the whole cache; db type is dbm.gnu, but the module is not available [astropy.utils.data]\n",
      "WARNING: leap-second auto-update failed due to the following exception: WrongDBMModule('Existing astropy cache is in an unsupported format, either install the appropriate package or use astropy.utils.data.clear_download_cache() to delete the whole cache; db type is dbm.gnu, but the module is not available',) [astropy.time.core]\n"
     ]
    }
   ],
   "source": [
    "t_hci = Time('2008-11-16')\n",
    "print(t_hci.decimalyear)"
   ]
  },
  {
   "cell_type": "code",
   "execution_count": 7,
   "metadata": {},
   "outputs": [],
   "source": [
    "sep = np.array([0.345, 0.445, 0.545, 0.645, 0.745, 0.845, 0.945, 1.045, 1.145,\n",
    "       1.245, 1.345, 1.445, 1.545, 1.645, 1.745, 1.845, 1.945])\n",
    "contrast = np.array([ 5.89398451, 11.13199795, 12.00855101, 12.57479667, 13.07858451,\n",
    "       12.83411251, 13.42493691, 13.52553135, 13.56641038, 13.78909367,\n",
    "       13.7870043 , 13.68065617, 13.70834146, 13.83224703, 13.74749432,\n",
    "       13.73895328, 13.70722755])"
   ]
  },
  {
   "cell_type": "code",
   "execution_count": 8,
   "metadata": {},
   "outputs": [],
   "source": [
    "reload(o)\n",
    "hci_dataset = o.ImagingDataSet(t_hci.decimalyear,\n",
    "                               sep,\n",
    "                               contrast,\n",
    "                               star,\n",
    "                               \"L'\")"
   ]
  },
  {
   "cell_type": "code",
   "execution_count": 9,
   "metadata": {},
   "outputs": [],
   "source": [
    "model = o.ContrastModel('phoenix')"
   ]
  },
  {
   "cell_type": "code",
   "execution_count": 10,
   "metadata": {},
   "outputs": [],
   "source": [
    "sim = o.CompletenessMC(m_p_arr,a_arr,1000,[hci_dataset],model)"
   ]
  },
  {
   "cell_type": "code",
   "execution_count": null,
   "metadata": {},
   "outputs": [],
   "source": [
    "out=sim.run()"
   ]
  },
  {
   "cell_type": "code",
   "execution_count": 1,
   "metadata": {},
   "outputs": [
    {
     "name": "stdout",
     "output_type": "stream",
     "text": [
      "Object `model.get_contrast` not found.\n"
     ]
    }
   ],
   "source": [
    "model.get_contrast?"
   ]
  },
  {
   "cell_type": "markdown",
   "metadata": {},
   "source": [
    "## Compare with and without planet mass in p <-> a conversions"
   ]
  },
  {
   "cell_type": "code",
   "execution_count": 142,
   "metadata": {},
   "outputs": [],
   "source": [
    "planet = orb.Planet(1)"
   ]
  },
  {
   "cell_type": "code",
   "execution_count": 143,
   "metadata": {},
   "outputs": [],
   "source": [
    "nsamples = 10\n",
    "e, o, t0 = 0., 0., 0.  # self.o needs to be sampled for 2d contrast map\n",
    "\n",
    "unif = np.random.uniform(size=nsamples)\n",
    "i = np.arccos(unif) * (180. / np.pi)\n",
    "\n",
    "w = np.random.uniform(size=nsamples, low=0, high=360.)\n",
    "\n",
    "a = 1"
   ]
  },
  {
   "cell_type": "code",
   "execution_count": 144,
   "metadata": {},
   "outputs": [],
   "source": [
    "reload(orb)\n",
    "\n",
    "p1 = np.sqrt(a ** 3. / (star.mass)) * 365.\n",
    "\n",
    "orbit_set_nomp = orb.Orbit(e,\n",
    "                  p,\n",
    "                  t0,\n",
    "                  i,\n",
    "                  w,\n",
    "                  o,\n",
    "                  star,\n",
    "                  planet)\n",
    "\n",
    "out_nomp = orbit_set_nomp.get_orbit_solution(np.linspace(0,p1,1000),exact_total_mass=False)"
   ]
  },
  {
   "cell_type": "code",
   "execution_count": 145,
   "metadata": {},
   "outputs": [
    {
     "name": "stdout",
     "output_type": "stream",
     "text": [
      "0.317391667525726\n"
     ]
    }
   ],
   "source": [
    "reload(orb)\n",
    "\n",
    "p2 = np.sqrt(a ** 3. / (star.mass + planet.mass * 954.7919e-6)) * 365.\n",
    "\n",
    "print(p1-p2)\n",
    "\n",
    "orbit_set_wmp = orb.Orbit(e,\n",
    "                  p,\n",
    "                  t0,\n",
    "                  i,\n",
    "                  w,\n",
    "                  o,\n",
    "                  star,\n",
    "                  planet)\n",
    "\n",
    "out_wmp = orbit_set_nomp.get_orbit_solution(np.linspace(0,p1,1000),exact_total_mass=True)"
   ]
  },
  {
   "cell_type": "code",
   "execution_count": 146,
   "metadata": {},
   "outputs": [
    {
     "data": {
      "text/plain": [
       "(-24.75, 24.75, -24.75, 24.75)"
      ]
     },
     "execution_count": 146,
     "metadata": {},
     "output_type": "execute_result"
    },
    {
     "data": {
      "image/png": "[encoded data removed]",
      "text/plain": [
       "<Figure size 432x288 with 1 Axes>"
      ]
     },
     "metadata": {
      "needs_background": "light"
     },
     "output_type": "display_data"
    }
   ],
   "source": [
    "plt.plot((out_wmp[0]-out_nomp[0])*1e3,(out_wmp[1]-out_nomp[1])*1e3)\n",
    "if True:\n",
    "    r = plt.Rectangle((-45./2,-45./2),45,45,fill=False,label='NEAR pixel')\n",
    "    plt.gca().add_patch(r)\n",
    "    plt.legend()\n",
    "    \n",
    "plt.xlabel('X (milliarcsec)')\n",
    "plt.ylabel('Y (milliarcsec)')\n",
    "plt.axis('equal')"
   ]
  },
  {
   "cell_type": "markdown",
   "metadata": {},
   "source": [
    "### Test mass-radius relationship"
   ]
  },
  {
   "cell_type": "code",
   "execution_count": 8,
   "metadata": {},
   "outputs": [
    {
     "data": {
      "text/plain": [
       "<module 'orbit_classes' from '/Users/annaboehle/research/code/orbits/orbit_classes.py'>"
      ]
     },
     "execution_count": 8,
     "metadata": {},
     "output_type": "execute_result"
    }
   ],
   "source": [
    "reload(util)\n",
    "reload(orb)"
   ]
  },
  {
   "cell_type": "code",
   "execution_count": 9,
   "metadata": {},
   "outputs": [
    {
     "name": "stdout",
     "output_type": "stream",
     "text": [
      "12.214426501982073\n",
      "\n",
      "0.999999999999997\n",
      "\n",
      "Warning: mass is not well defined for radii > 12.4, so a mass of 1660 Earth masses is assumed.\n",
      "5.222944096740198\n"
     ]
    }
   ],
   "source": [
    "p = orb.Planet(mass=1.0)\n",
    "print(p.radius)\n",
    "print()\n",
    "\n",
    "p = orb.Planet(radius=p.radius)\n",
    "print(p.mass)\n",
    "print()\n",
    "\n",
    "p = orb.Planet(radius=100)\n",
    "print(p.mass)"
   ]
  },
  {
   "cell_type": "code",
   "execution_count": 10,
   "metadata": {},
   "outputs": [
    {
     "name": "stdout",
     "output_type": "stream",
     "text": [
      "891.5321412121012\n"
     ]
    },
    {
     "data": {
      "image/png": "[encoded data removed]",
      "text/plain": [
       "<Figure size 432x288 with 1 Axes>"
      ]
     },
     "metadata": {
      "needs_background": "light"
     },
     "output_type": "display_data"
    }
   ],
   "source": [
    "masses = np.linspace(124,5.22*const.M_jup/const.M_earth)\n",
    "rads = util.mass_radius_relationship(masses)\n",
    "plt.plot(masses,rads)\n",
    "print(np.average(masses))"
   ]
  },
  {
   "cell_type": "code",
   "execution_count": 11,
   "metadata": {},
   "outputs": [
    {
     "name": "stdout",
     "output_type": "stream",
     "text": [
      "Warning: mass is not well defined for radii > 12.4, so a mass of 1660 Earth masses is assumed.\n"
     ]
    },
    {
     "data": {
      "text/plain": [
       "[<matplotlib.lines.Line2D at 0x121a032e8>]"
      ]
     },
     "execution_count": 11,
     "metadata": {},
     "output_type": "execute_result"
    },
    {
     "data": {
      "image/png": "[encoded data removed]",
      "text/plain": [
       "<Figure size 432x288 with 1 Axes>"
      ]
     },
     "metadata": {
      "needs_background": "light"
     },
     "output_type": "display_data"
    }
   ],
   "source": [
    "rads = np.linspace(1.0,20,1000)\n",
    "masses = util.radius_mass_relationship(rads)\n",
    "plt.plot(masses,rads)"
   ]
  },
  {
   "cell_type": "code",
   "execution_count": null,
   "metadata": {},
   "outputs": [],
   "source": []
  },
  {
   "cell_type": "code",
   "execution_count": null,
   "metadata": {},
   "outputs": [],
   "source": []
  }
 ],
 "metadata": {
  "kernelspec": {
   "display_name": "Python 3",
   "language": "python",
   "name": "python3"
  },
  "language_info": {
   "codemirror_mode": {
    "name": "ipython",
    "version": 3
   },
   "file_extension": ".py",
   "mimetype": "text/x-python",
   "name": "python",
   "nbconvert_exporter": "python",
   "pygments_lexer": "ipython3",
   "version": "3.6.2"
  }
 },
 "nbformat": 4,
 "nbformat_minor": 4
}
