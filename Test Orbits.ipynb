{
 "cells": [
  {
   "cell_type": "code",
   "execution_count": 1,
   "metadata": {},
   "outputs": [],
   "source": [
    "import orbit_classes as orb\n",
    "import numpy as np\n",
    "import glob\n",
    "from astropy.io import ascii as a\n",
    "from astropy.time import Time\n",
    "import matplotlib.pyplot as plt\n",
    "#import h5py\n",
    "import hci_util as util\n",
    "import astropy.constants as const\n",
    "\n",
    "from importlib import reload"
   ]
  },
  {
   "cell_type": "code",
   "execution_count": 2,
   "metadata": {},
   "outputs": [
    {
     "data": {
      "text/plain": [
       "<module 'orbit_classes' from '/Users/annaboehle/research/code/orbits/orbit_classes.py'>"
      ]
     },
     "execution_count": 2,
     "metadata": {},
     "output_type": "execute_result"
    }
   ],
   "source": [
    "reload(orb)"
   ]
  },
  {
   "cell_type": "code",
   "execution_count": 3,
   "metadata": {},
   "outputs": [],
   "source": [
    "star = orb.Star('40_eri',4.98,(2.8,5.6,8.4),{'Lp':2.370},0.67,teff=2000,radius=1.0)  # random teff and r"
   ]
  },
  {
   "cell_type": "markdown",
   "metadata": {},
   "source": [
    "Set up simulation"
   ]
  },
  {
   "cell_type": "code",
   "execution_count": 4,
   "metadata": {},
   "outputs": [],
   "source": [
    "del_a = 2.\n",
    "a_arr = np.arange(del_a/2., 2.0*star.dist*4.0,del_a) \n",
    "\n",
    "del_m_p = 3.\n",
    "m_p_arr = np.arange(del_m_p/2., 50, del_m_p) "
   ]
  },
  {
   "cell_type": "markdown",
   "metadata": {},
   "source": [
    "### RV data set"
   ]
  },
  {
   "cell_type": "code",
   "execution_count": 5,
   "metadata": {},
   "outputs": [],
   "source": [
    "def get_rv_timeseries(star):\n",
    "    rvDir = '/Users/annaboehle/research/analysis/archival_stars/rv_calibrated'\n",
    "\n",
    "    file_ls = glob.glob('{:s}/{:s}/{:s}*cal.dat'.format(rvDir, star, star))\n",
    "    rv_epochs = []\n",
    "    rv_meas = []\n",
    "    for f in file_ls:\n",
    "        rv_tab = a.read(f,names=('rjd','vrad'))\n",
    "        # rv_epochs.append(ascii.read(f))\n",
    "        rv_epochs.extend(rv_tab['rjd'][:])\n",
    "        rv_meas.extend(rv_tab['vrad'][:])\n",
    "\n",
    "    return np.array(rv_epochs, dtype=float) + 2400000, np.array(rv_meas)"
   ]
  },
  {
   "cell_type": "code",
   "execution_count": 6,
   "metadata": {},
   "outputs": [],
   "source": [
    "t, rv_meas=get_rv_timeseries('40_eri')\n",
    "rv_dataset = orb.RVDataSet(t, rv_meas,star)"
   ]
  },
  {
   "cell_type": "code",
   "execution_count": 7,
   "metadata": {},
   "outputs": [],
   "source": [
    "sim = orb.CompletenessMC(a_arr,1000,[rv_dataset],mp_arr=m_p_arr)"
   ]
  },
  {
   "cell_type": "code",
   "execution_count": 8,
   "metadata": {},
   "outputs": [],
   "source": [
    "out=sim.run()"
   ]
  },
  {
   "cell_type": "code",
   "execution_count": 9,
   "metadata": {},
   "outputs": [
    {
     "data": {
      "text/plain": [
       "<matplotlib.image.AxesImage at 0x11d4e8940>"
      ]
     },
     "execution_count": 9,
     "metadata": {},
     "output_type": "execute_result"
    },
    {
     "data": {
      "image/png": "[encoded data removed]",
      "text/plain": [
       "<Figure size 432x288 with 1 Axes>"
      ]
     },
     "metadata": {
      "needs_background": "light"
     },
     "output_type": "display_data"
    }
   ],
   "source": [
    "extent=[0,a_arr[-1]+del_a*0.5,0,m_p_arr[-1]+del_m_p*0.5]\n",
    "\n",
    "plt.imshow(out[0]*100.,origin='lower',cmap='Blues', \n",
    "           extent=extent,aspect='auto',vmin=0,vmax=100)  "
   ]
  },
  {
   "cell_type": "markdown",
   "metadata": {},
   "source": [
    "### HCI data set"
   ]
  },
  {
   "cell_type": "code",
   "execution_count": 26,
   "metadata": {},
   "outputs": [],
   "source": [
    "star_name = '40_eri'"
   ]
  },
  {
   "cell_type": "code",
   "execution_count": 27,
   "metadata": {},
   "outputs": [
    {
     "name": "stdout",
     "output_type": "stream",
     "text": [
      "2008.8743169398906\n"
     ]
    },
    {
     "name": "stderr",
     "output_type": "stream",
     "text": [
      "WARNING: WrongDBMModuleWarning: Existing astropy cache is in an unsupported format, either install the appropriate package or use astropy.utils.data.clear_download_cache() to delete the whole cache; db type is dbm.gnu, but the module is not available [astropy.utils.data]\n",
      "WARNING: leap-second auto-update failed due to the following exception: WrongDBMModule('Existing astropy cache is in an unsupported format, either install the appropriate package or use astropy.utils.data.clear_download_cache() to delete the whole cache; db type is dbm.gnu, but the module is not available',) [astropy.time.core]\n"
     ]
    }
   ],
   "source": [
    "t_hci = Time('2008-11-16')\n",
    "print(t_hci.decimalyear)"
   ]
  },
  {
   "cell_type": "code",
   "execution_count": 28,
   "metadata": {},
   "outputs": [
    {
     "name": "stdout",
     "output_type": "stream",
     "text": [
      "17 17\n"
     ]
    }
   ],
   "source": [
    "sep = np.array([0.345, 0.445, 0.545, 0.645, 0.745, 0.845, 0.945, 1.045, 1.145,\n",
    "       1.245, 1.345, 1.445, 1.545, 1.645, 1.745, 1.845, 1.945])\n",
    "contrast = np.array([ 5.89398451, 11.13199795, 12.00855101, 12.57479667, 13.07858451,\n",
    "       12.83411251, 13.42493691, 13.52553135, 13.56641038, 13.78909367,\n",
    "       13.7870043 , 13.68065617, 13.70834146, 13.83224703, 13.74749432,\n",
    "       13.73895328, 13.70722755])\n",
    "print(len(contrast),len(sep))"
   ]
  },
  {
   "cell_type": "code",
   "execution_count": 29,
   "metadata": {},
   "outputs": [],
   "source": [
    "reload(orb)\n",
    "hci_dataset = orb.ImagingDataSet(t_hci.decimalyear,\n",
    "                               contrast,\n",
    "                               star,\n",
    "                               \"L'\",\n",
    "                                sep=sep)"
   ]
  },
  {
   "cell_type": "code",
   "execution_count": 31,
   "metadata": {},
   "outputs": [],
   "source": [
    "model = orb.ContrastModel('phoenix')"
   ]
  },
  {
   "cell_type": "code",
   "execution_count": 35,
   "metadata": {},
   "outputs": [],
   "source": [
    "sim = orb.CompletenessMC(a_arr,1000,[hci_dataset],model=model,mp_arr=m_p_arr)"
   ]
  },
  {
   "cell_type": "code",
   "execution_count": null,
   "metadata": {},
   "outputs": [],
   "source": [
    "out=sim.run()  # I think this doesn't work bc of the segmentation fault issue with griddata"
   ]
  },
  {
   "cell_type": "markdown",
   "metadata": {},
   "source": [
    "## Compare with and without planet mass in p <-> a conversions"
   ]
  },
  {
   "cell_type": "code",
   "execution_count": 10,
   "metadata": {},
   "outputs": [],
   "source": [
    "planet = orb.Planet(1)"
   ]
  },
  {
   "cell_type": "code",
   "execution_count": 11,
   "metadata": {},
   "outputs": [],
   "source": [
    "nsamples = 10\n",
    "e, o, t0 = 0., 0., 0.  # self.o needs to be sampled for 2d contrast map\n",
    "\n",
    "unif = np.random.uniform(size=nsamples)\n",
    "i = np.arccos(unif) * (180. / np.pi)\n",
    "\n",
    "w = np.random.uniform(size=nsamples, low=0, high=360.)\n",
    "\n",
    "a = 1"
   ]
  },
  {
   "cell_type": "code",
   "execution_count": 13,
   "metadata": {},
   "outputs": [],
   "source": [
    "reload(orb)\n",
    "\n",
    "p1 = np.sqrt(a ** 3. / (star.mass)) * 365.\n",
    "\n",
    "orbit_set_nomp = orb.Orbit(e,\n",
    "                  p1,\n",
    "                  t0,\n",
    "                  i,\n",
    "                  w,\n",
    "                  o,\n",
    "                  star,\n",
    "                  planet)\n",
    "\n",
    "out_nomp = orbit_set_nomp.get_orbit_solution(np.linspace(0,p1,1000),exact_total_mass=False)"
   ]
  },
  {
   "cell_type": "code",
   "execution_count": 15,
   "metadata": {},
   "outputs": [
    {
     "name": "stdout",
     "output_type": "stream",
     "text": [
      "0.317391667525726\n"
     ]
    }
   ],
   "source": [
    "reload(orb)\n",
    "\n",
    "p2 = np.sqrt(a ** 3. / (star.mass + planet.mass * 954.7919e-6)) * 365.\n",
    "\n",
    "print(p1-p2)\n",
    "\n",
    "orbit_set_wmp = orb.Orbit(e,\n",
    "                  p2,\n",
    "                  t0,\n",
    "                  i,\n",
    "                  w,\n",
    "                  o,\n",
    "                  star,\n",
    "                  planet)\n",
    "\n",
    "out_wmp = orbit_set_nomp.get_orbit_solution(np.linspace(0,p1,1000),exact_total_mass=True)"
   ]
  },
  {
   "cell_type": "code",
   "execution_count": 16,
   "metadata": {},
   "outputs": [
    {
     "data": {
      "text/plain": [
       "(-24.75, 24.75, -24.75, 24.75)"
      ]
     },
     "execution_count": 16,
     "metadata": {},
     "output_type": "execute_result"
    },
    {
     "data": {
      "image/png": "[encoded data removed]",
      "text/plain": [
       "<Figure size 432x288 with 1 Axes>"
      ]
     },
     "metadata": {
      "needs_background": "light"
     },
     "output_type": "display_data"
    }
   ],
   "source": [
    "plt.plot((out_wmp[0]-out_nomp[0])*1e3,(out_wmp[1]-out_nomp[1])*1e3)\n",
    "if True:\n",
    "    r = plt.Rectangle((-45./2,-45./2),45,45,fill=False,label='NEAR pixel')\n",
    "    plt.gca().add_patch(r)\n",
    "    plt.legend()\n",
    "    \n",
    "plt.xlabel('X (milliarcsec)')\n",
    "plt.ylabel('Y (milliarcsec)')\n",
    "plt.axis('equal')"
   ]
  },
  {
   "cell_type": "markdown",
   "metadata": {},
   "source": [
    "### Test mass-radius relationship"
   ]
  },
  {
   "cell_type": "code",
   "execution_count": 17,
   "metadata": {},
   "outputs": [
    {
     "data": {
      "text/plain": [
       "<module 'orbit_classes' from '/Users/annaboehle/research/code/orbits/orbit_classes.py'>"
      ]
     },
     "execution_count": 17,
     "metadata": {},
     "output_type": "execute_result"
    }
   ],
   "source": [
    "reload(util)\n",
    "reload(orb)"
   ]
  },
  {
   "cell_type": "code",
   "execution_count": 20,
   "metadata": {},
   "outputs": [
    {
     "name": "stdout",
     "output_type": "stream",
     "text": [
      "12.214426501982073\n",
      "\n",
      "0.999999999999997\n",
      "\n",
      "Warning: mass is not well defined for radii > 12.4, so a mass of 1660 Earth masses is assumed.\n",
      "5.222944096740198\n"
     ]
    }
   ],
   "source": [
    "p1 = orb.Planet(mass=1.0)\n",
    "print(p1.radius)\n",
    "print()\n",
    "\n",
    "p2 = orb.Planet(radius=p1.radius)\n",
    "print(p2.mass)\n",
    "print()\n",
    "\n",
    "p3 = orb.Planet(radius=100)\n",
    "print(p3.mass)"
   ]
  },
  {
   "cell_type": "code",
   "execution_count": 21,
   "metadata": {},
   "outputs": [
    {
     "name": "stdout",
     "output_type": "stream",
     "text": [
      "891.5321412121012\n"
     ]
    },
    {
     "data": {
      "image/png": "[encoded data removed]",
      "text/plain": [
       "<Figure size 432x288 with 1 Axes>"
      ]
     },
     "metadata": {
      "needs_background": "light"
     },
     "output_type": "display_data"
    }
   ],
   "source": [
    "masses = np.linspace(124,5.22*const.M_jup/const.M_earth)\n",
    "rads = util.mass_radius_relationship(masses)\n",
    "plt.plot(masses,rads)\n",
    "print(np.average(masses))"
   ]
  },
  {
   "cell_type": "code",
   "execution_count": 22,
   "metadata": {},
   "outputs": [
    {
     "name": "stdout",
     "output_type": "stream",
     "text": [
      "Warning: mass is not well defined for radii > 12.4, so a mass of 1660 Earth masses is assumed.\n"
     ]
    },
    {
     "data": {
      "text/plain": [
       "[<matplotlib.lines.Line2D at 0x1203227f0>]"
      ]
     },
     "execution_count": 22,
     "metadata": {},
     "output_type": "execute_result"
    },
    {
     "data": {
      "image/png": "[encoded data removed]",
      "text/plain": [
       "<Figure size 432x288 with 1 Axes>"
      ]
     },
     "metadata": {
      "needs_background": "light"
     },
     "output_type": "display_data"
    }
   ],
   "source": [
    "rads = np.linspace(1.0,20,1000)\n",
    "masses = util.radius_mass_relationship(rads)\n",
    "plt.plot(masses,rads)"
   ]
  },
  {
   "cell_type": "markdown",
   "metadata": {},
   "source": [
    "## Test sim with rp_arr input"
   ]
  },
  {
   "cell_type": "code",
   "execution_count": 23,
   "metadata": {},
   "outputs": [
    {
     "name": "stdout",
     "output_type": "stream",
     "text": [
      "[1.5, 4.5, 7.5, 10.5, 13.5, 16.5, 19.5, 22.5, 25.5, 28.5, 31.5, 34.5, 37.5, 40.5, 43.5, 46.5, 49.5]\n",
      "[ 1.5  4.5  7.5 10.5 13.5 16.5 19.5 22.5 25.5 28.5 31.5 34.5 37.5 40.5\n",
      " 43.5 46.5 49.5]\n",
      "\n",
      "[12.264052279220689, 12.39952948665897, 12.463031514732158, 12.505036784025418, 12.536503269072425, 12.561685615713667, 12.582687962391981, 12.600706784487164, 12.61648809926761, 12.630528675197018, 12.643176073050073, 12.654683028392771, 12.665239107010484, 12.67499015866376, 12.684050812255016, 12.69251280147864, 12.700450686930624]\n"
     ]
    }
   ],
   "source": [
    "sim = orb.CompletenessMC(a_arr,1000,[rv_dataset],mp_arr=m_p_arr)\n",
    "print([p.mass for p in sim.p_ls])\n",
    "print(m_p_arr)\n",
    "print()\n",
    "print([p.radius for p in sim.p_ls])"
   ]
  },
  {
   "cell_type": "code",
   "execution_count": 24,
   "metadata": {},
   "outputs": [
    {
     "name": "stdout",
     "output_type": "stream",
     "text": [
      "[1.0, 2.0, 3.0, 4.0, 5.0, 6.0, 7.0, 8.0, 9.0, 10.0]\n",
      "[ 1.  2.  3.  4.  5.  6.  7.  8.  9. 10.]\n",
      "\n",
      "[0.0041930332013344895, 0.014786165608817825, 0.030904483637710454, 0.052141417182626854, 0.07823171565099907, 0.10898049006069263, 0.14423484500743017, 0.18386966964521245, 0.22777952452404715, 0.27587358552502456]\n"
     ]
    }
   ],
   "source": [
    "sim = orb.CompletenessMC(a_arr,1000,[rv_dataset],rp_arr=np.linspace(1,10,10))\n",
    "\n",
    "print([p.radius for p in sim.p_ls])\n",
    "print(np.linspace(1,10,10))\n",
    "print()\n",
    "print([p.mass for p in sim.p_ls])"
   ]
  },
  {
   "cell_type": "code",
   "execution_count": null,
   "metadata": {},
   "outputs": [],
   "source": []
  }
 ],
 "metadata": {
  "kernelspec": {
   "display_name": "Python 3",
   "language": "python",
   "name": "python3"
  },
  "language_info": {
   "codemirror_mode": {
    "name": "ipython",
    "version": 3
   },
   "file_extension": ".py",
   "mimetype": "text/x-python",
   "name": "python",
   "nbconvert_exporter": "python",
   "pygments_lexer": "ipython3",
   "version": "3.6.2"
  }
 },
 "nbformat": 4,
 "nbformat_minor": 4
}
